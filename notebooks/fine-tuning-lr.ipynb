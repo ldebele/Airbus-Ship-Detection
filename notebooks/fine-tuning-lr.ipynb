{
 "cells": [
  {
   "cell_type": "code",
   "execution_count": 1,
   "id": "f1cd4c8b",
   "metadata": {
    "execution": {
     "iopub.execute_input": "2024-07-24T07:33:18.488088Z",
     "iopub.status.busy": "2024-07-24T07:33:18.487664Z",
     "iopub.status.idle": "2024-07-24T07:33:32.347348Z",
     "shell.execute_reply": "2024-07-24T07:33:32.346356Z"
    },
    "papermill": {
     "duration": 13.872115,
     "end_time": "2024-07-24T07:33:32.349754",
     "exception": false,
     "start_time": "2024-07-24T07:33:18.477639",
     "status": "completed"
    },
    "tags": []
   },
   "outputs": [
    {
     "name": "stderr",
     "output_type": "stream",
     "text": [
      "2024-07-24 07:33:22.329876: E external/local_xla/xla/stream_executor/cuda/cuda_dnn.cc:9261] Unable to register cuDNN factory: Attempting to register factory for plugin cuDNN when one has already been registered\n",
      "2024-07-24 07:33:22.329987: E external/local_xla/xla/stream_executor/cuda/cuda_fft.cc:607] Unable to register cuFFT factory: Attempting to register factory for plugin cuFFT when one has already been registered\n",
      "2024-07-24 07:33:22.455673: E external/local_xla/xla/stream_executor/cuda/cuda_blas.cc:1515] Unable to register cuBLAS factory: Attempting to register factory for plugin cuBLAS when one has already been registered\n"
     ]
    }
   ],
   "source": [
    "import os\n",
    "import random\n",
    "\n",
    "import cv2 as cv\n",
    "from PIL import Image, ImageDraw\n",
    "\n",
    "import numpy as np\n",
    "import pandas as pd\n",
    "import matplotlib.pyplot as plt\n",
    "\n",
    "from sklearn.model_selection import train_test_split\n",
    "\n",
    "import tensorflow as tf"
   ]
  },
  {
   "cell_type": "code",
   "execution_count": 2,
   "id": "1a608094",
   "metadata": {
    "execution": {
     "iopub.execute_input": "2024-07-24T07:33:32.368453Z",
     "iopub.status.busy": "2024-07-24T07:33:32.367821Z",
     "iopub.status.idle": "2024-07-24T07:33:32.372417Z",
     "shell.execute_reply": "2024-07-24T07:33:32.371553Z"
    },
    "papermill": {
     "duration": 0.016005,
     "end_time": "2024-07-24T07:33:32.374302",
     "exception": false,
     "start_time": "2024-07-24T07:33:32.358297",
     "status": "completed"
    },
    "tags": []
   },
   "outputs": [],
   "source": [
    "IMAGES_DIR = \"/kaggle/input/airbus-ship-detection/train_v2\"\n",
    "MASKS_CSV_DIR = \"/kaggle/input/airbus-ship-detection/train_ship_segmentations_v2.csv\""
   ]
  },
  {
   "cell_type": "code",
   "execution_count": 3,
   "id": "b79917a0",
   "metadata": {
    "execution": {
     "iopub.execute_input": "2024-07-24T07:33:32.391669Z",
     "iopub.status.busy": "2024-07-24T07:33:32.391373Z",
     "iopub.status.idle": "2024-07-24T07:33:33.377365Z",
     "shell.execute_reply": "2024-07-24T07:33:33.376548Z"
    },
    "papermill": {
     "duration": 0.997131,
     "end_time": "2024-07-24T07:33:33.379685",
     "exception": false,
     "start_time": "2024-07-24T07:33:32.382554",
     "status": "completed"
    },
    "tags": []
   },
   "outputs": [],
   "source": [
    "# read the csv file\n",
    "df = pd.read_csv(MASKS_CSV_DIR)"
   ]
  },
  {
   "cell_type": "code",
   "execution_count": 4,
   "id": "08305bca",
   "metadata": {
    "execution": {
     "iopub.execute_input": "2024-07-24T07:33:33.405842Z",
     "iopub.status.busy": "2024-07-24T07:33:33.405485Z",
     "iopub.status.idle": "2024-07-24T07:33:33.413719Z",
     "shell.execute_reply": "2024-07-24T07:33:33.412836Z"
    },
    "papermill": {
     "duration": 0.020843,
     "end_time": "2024-07-24T07:33:33.415649",
     "exception": false,
     "start_time": "2024-07-24T07:33:33.394806",
     "status": "completed"
    },
    "tags": []
   },
   "outputs": [],
   "source": [
    "def wrangle():\n",
    "    # read the csv file\n",
    "    df = pd.read_csv(MASKS_CSV_DIR)\n",
    "    \n",
    "    # merged the encoded pixels of the same image ids into a single row.\n",
    "    df = df.groupby(\"ImageId\")[\"EncodedPixels\"].apply(lambda x: ' '.join(x.dropna())).reset_index()\n",
    "    df[\"EncodedPixels\"] = df[\"EncodedPixels\"].replace(\"\", np.nan)\n",
    "    \n",
    "    # select images that doesn't have any instances.\n",
    "    background_imgs = df[df.isna().any(axis=1)]\n",
    "\n",
    "    # Randomly select rows to drop\n",
    "    droped_rows = background_imgs.sample(n=int(0.99 * len(background_imgs))).index # drop 99% of images that don't contains any instances.\n",
    "\n",
    "    # drop the selected rows form the dataframe\n",
    "    df = df.drop(droped_rows)\n",
    "    \n",
    "    return df"
   ]
  },
  {
   "cell_type": "code",
   "execution_count": 5,
   "id": "0621ded0",
   "metadata": {
    "execution": {
     "iopub.execute_input": "2024-07-24T07:33:33.433668Z",
     "iopub.status.busy": "2024-07-24T07:33:33.432939Z",
     "iopub.status.idle": "2024-07-24T07:33:55.275441Z",
     "shell.execute_reply": "2024-07-24T07:33:55.274573Z"
    },
    "papermill": {
     "duration": 21.854091,
     "end_time": "2024-07-24T07:33:55.277925",
     "exception": false,
     "start_time": "2024-07-24T07:33:33.423834",
     "status": "completed"
    },
    "tags": []
   },
   "outputs": [],
   "source": [
    "df = wrangle()"
   ]
  },
  {
   "cell_type": "code",
   "execution_count": 6,
   "id": "b3bce83c",
   "metadata": {
    "execution": {
     "iopub.execute_input": "2024-07-24T07:33:55.296470Z",
     "iopub.status.busy": "2024-07-24T07:33:55.295742Z",
     "iopub.status.idle": "2024-07-24T07:33:55.309656Z",
     "shell.execute_reply": "2024-07-24T07:33:55.308928Z"
    },
    "papermill": {
     "duration": 0.025391,
     "end_time": "2024-07-24T07:33:55.311765",
     "exception": false,
     "start_time": "2024-07-24T07:33:55.286374",
     "status": "completed"
    },
    "tags": []
   },
   "outputs": [],
   "source": [
    "df = df.sample(n=10000)"
   ]
  },
  {
   "cell_type": "code",
   "execution_count": 7,
   "id": "37940589",
   "metadata": {
    "execution": {
     "iopub.execute_input": "2024-07-24T07:33:55.332276Z",
     "iopub.status.busy": "2024-07-24T07:33:55.331903Z",
     "iopub.status.idle": "2024-07-24T07:33:55.339524Z",
     "shell.execute_reply": "2024-07-24T07:33:55.338618Z"
    },
    "papermill": {
     "duration": 0.020082,
     "end_time": "2024-07-24T07:33:55.341513",
     "exception": false,
     "start_time": "2024-07-24T07:33:55.321431",
     "status": "completed"
    },
    "tags": []
   },
   "outputs": [],
   "source": [
    "def rle2mask(mask_rle, shape):\n",
    "    \"\"\"\n",
    "    Converts a run-lenght-encoder (RLE) string to a binary mask.\n",
    "\n",
    "    Args:\n",
    "        mask_rle: Run-length encoded string\n",
    "        shape: Tuple (height, width) of the output mask.\n",
    "\n",
    "    Returns:\n",
    "        binary mask of the given shape.\n",
    "    \"\"\"\n",
    "\n",
    "    # split the RLE string and convert to integres.\n",
    "    s = mask_rle.split()\n",
    "    starts, lengths = [np.asarray(x, dtype=int) for x in (s[0::2], s[1::2])]\n",
    "\n",
    "    # Adjust starts to be zero-indexed\n",
    "    starts -= 1\n",
    "    # Compute the ending positions of the runs\n",
    "    ends = starts + lengths\n",
    "\n",
    "    # Initialize the mask with zeros\n",
    "    img = np.zeros(shape[0]*shape[1], dtype=np.float32)\n",
    "\n",
    "    # Set the pixels within the runs to 1\n",
    "    for lo, hi in zip(starts, ends):\n",
    "        img[lo:hi] = 1\n",
    "\n",
    "    # Reshape the flat array to the specified shape\n",
    "    return img.reshape((shape[1], shape[0])).T"
   ]
  },
  {
   "cell_type": "code",
   "execution_count": 8,
   "id": "a5d10a7f",
   "metadata": {
    "execution": {
     "iopub.execute_input": "2024-07-24T07:33:55.358963Z",
     "iopub.status.busy": "2024-07-24T07:33:55.358675Z",
     "iopub.status.idle": "2024-07-24T07:33:55.363065Z",
     "shell.execute_reply": "2024-07-24T07:33:55.362272Z"
    },
    "papermill": {
     "duration": 0.015226,
     "end_time": "2024-07-24T07:33:55.364878",
     "exception": false,
     "start_time": "2024-07-24T07:33:55.349652",
     "status": "completed"
    },
    "tags": []
   },
   "outputs": [],
   "source": [
    "SEED = 42\n",
    "BATCH = 8\n",
    "LEARNING_RATE = 0.001\n",
    "NUM_CLASSES = 1\n",
    "IMG_SHAPE = (512, 512)\n",
    "EPOCHS=20"
   ]
  },
  {
   "cell_type": "markdown",
   "id": "ce93e367",
   "metadata": {
    "papermill": {
     "duration": 0.007823,
     "end_time": "2024-07-24T07:33:55.380840",
     "exception": false,
     "start_time": "2024-07-24T07:33:55.373017",
     "status": "completed"
    },
    "tags": []
   },
   "source": [
    "## Split the Dataset"
   ]
  },
  {
   "cell_type": "code",
   "execution_count": 9,
   "id": "bc5fb491",
   "metadata": {
    "execution": {
     "iopub.execute_input": "2024-07-24T07:33:55.398318Z",
     "iopub.status.busy": "2024-07-24T07:33:55.398027Z",
     "iopub.status.idle": "2024-07-24T07:33:55.405443Z",
     "shell.execute_reply": "2024-07-24T07:33:55.404692Z"
    },
    "papermill": {
     "duration": 0.018386,
     "end_time": "2024-07-24T07:33:55.407421",
     "exception": false,
     "start_time": "2024-07-24T07:33:55.389035",
     "status": "completed"
    },
    "tags": []
   },
   "outputs": [],
   "source": [
    "# split into training and validation sets\n",
    "train_df, val_df = train_test_split(df, test_size=0.2, random_state=42)"
   ]
  },
  {
   "cell_type": "code",
   "execution_count": 10,
   "id": "6ca3404b",
   "metadata": {
    "execution": {
     "iopub.execute_input": "2024-07-24T07:33:55.426401Z",
     "iopub.status.busy": "2024-07-24T07:33:55.426111Z",
     "iopub.status.idle": "2024-07-24T07:33:55.430897Z",
     "shell.execute_reply": "2024-07-24T07:33:55.429915Z"
    },
    "papermill": {
     "duration": 0.017042,
     "end_time": "2024-07-24T07:33:55.433293",
     "exception": false,
     "start_time": "2024-07-24T07:33:55.416251",
     "status": "completed"
    },
    "tags": []
   },
   "outputs": [
    {
     "name": "stdout",
     "output_type": "stream",
     "text": [
      "Total Training size: 8000\n",
      "Total Validation size: 2000\n"
     ]
    }
   ],
   "source": [
    "print(f\"Total Training size: {len(train_df)}\")\n",
    "print(f\"Total Validation size: {len(val_df)}\")"
   ]
  },
  {
   "cell_type": "markdown",
   "id": "36df03ca",
   "metadata": {
    "papermill": {
     "duration": 0.008409,
     "end_time": "2024-07-24T07:33:55.450382",
     "exception": false,
     "start_time": "2024-07-24T07:33:55.441973",
     "status": "completed"
    },
    "tags": []
   },
   "source": [
    "## Preprocess the dataset"
   ]
  },
  {
   "cell_type": "code",
   "execution_count": 11,
   "id": "e468e6f5",
   "metadata": {
    "execution": {
     "iopub.execute_input": "2024-07-24T07:33:55.468827Z",
     "iopub.status.busy": "2024-07-24T07:33:55.468565Z",
     "iopub.status.idle": "2024-07-24T07:33:55.475854Z",
     "shell.execute_reply": "2024-07-24T07:33:55.475097Z"
    },
    "papermill": {
     "duration": 0.018346,
     "end_time": "2024-07-24T07:33:55.477677",
     "exception": false,
     "start_time": "2024-07-24T07:33:55.459331",
     "status": "completed"
    },
    "tags": []
   },
   "outputs": [],
   "source": [
    "def generator(dataframe, images_dir, img_shape):\n",
    "    def _generator():            \n",
    "        for i, (_, row) in enumerate(dataframe.iterrows()):\n",
    "            image_path = f\"{images_dir}/{row.ImageId}\"\n",
    "            # Read the image\n",
    "            image = cv.imread(image_path)\n",
    "            \n",
    "            # Check if there are encoded pixels for the mask\n",
    "            if not pd.isna(row.EncodedPixels):\n",
    "                # Convert encoded mask to a binary mask\n",
    "                mask = rle2mask(row.EncodedPixels, image.shape[:2])\n",
    "            else:\n",
    "                # If no encoded pixels, create an empty mask\n",
    "                mask = np.zeros((image.shape[0], image.shape[1]), dtype=np.float32)\n",
    "            \n",
    "            # Resize the image\n",
    "            image = cv.resize(image, img_shape)\n",
    "            \n",
    "            # Resize the mask\n",
    "            mask = cv.resize(mask, img_shape, interpolation=cv.INTER_NEAREST)\n",
    "            mask = np.expand_dims(mask, axis=-1)\n",
    "\n",
    "            yield image, mask\n",
    "    return _generator"
   ]
  },
  {
   "cell_type": "code",
   "execution_count": 12,
   "id": "3618b6fa",
   "metadata": {
    "execution": {
     "iopub.execute_input": "2024-07-24T07:33:55.494748Z",
     "iopub.status.busy": "2024-07-24T07:33:55.494489Z",
     "iopub.status.idle": "2024-07-24T07:33:55.500197Z",
     "shell.execute_reply": "2024-07-24T07:33:55.499452Z"
    },
    "papermill": {
     "duration": 0.016475,
     "end_time": "2024-07-24T07:33:55.502076",
     "exception": false,
     "start_time": "2024-07-24T07:33:55.485601",
     "status": "completed"
    },
    "tags": []
   },
   "outputs": [],
   "source": [
    "def create_tf_dataset(dataframe, images_dir, img_shape, batch):\n",
    "    # Create a TensorFlow dataset\n",
    "    dataset = tf.data.Dataset.from_generator(\n",
    "        generator(dataframe, images_dir, img_shape),\n",
    "        output_signature=(\n",
    "            tf.TensorSpec(shape=(img_shape[0], img_shape[1], 3), dtype=tf.float32),\n",
    "            tf.TensorSpec(shape=(img_shape[0], img_shape[1], 1), dtype=tf.float32)\n",
    "        )\n",
    "    )\n",
    "\n",
    "    # Batch the dataset and prefetch for better performance\n",
    "    dataset = dataset.batch(batch).prefetch(tf.data.experimental.AUTOTUNE)\n",
    "\n",
    "    return dataset"
   ]
  },
  {
   "cell_type": "code",
   "execution_count": 13,
   "id": "110268c5",
   "metadata": {
    "execution": {
     "iopub.execute_input": "2024-07-24T07:33:55.519641Z",
     "iopub.status.busy": "2024-07-24T07:33:55.519112Z",
     "iopub.status.idle": "2024-07-24T07:33:56.231059Z",
     "shell.execute_reply": "2024-07-24T07:33:56.230281Z"
    },
    "papermill": {
     "duration": 0.723281,
     "end_time": "2024-07-24T07:33:56.233327",
     "exception": false,
     "start_time": "2024-07-24T07:33:55.510046",
     "status": "completed"
    },
    "tags": []
   },
   "outputs": [],
   "source": [
    "# create tensorflow dataset\n",
    "train_dataset = create_tf_dataset(train_df, IMAGES_DIR, IMG_SHAPE, BATCH)\n",
    "val_dataset = create_tf_dataset(val_df, IMAGES_DIR, IMG_SHAPE, BATCH)"
   ]
  },
  {
   "cell_type": "markdown",
   "id": "54a2311d",
   "metadata": {
    "papermill": {
     "duration": 0.008062,
     "end_time": "2024-07-24T07:33:56.249700",
     "exception": false,
     "start_time": "2024-07-24T07:33:56.241638",
     "status": "completed"
    },
    "tags": []
   },
   "source": [
    "## Build the Model"
   ]
  },
  {
   "cell_type": "code",
   "execution_count": 14,
   "id": "ff3b2551",
   "metadata": {
    "execution": {
     "iopub.execute_input": "2024-07-24T07:33:56.267178Z",
     "iopub.status.busy": "2024-07-24T07:33:56.266429Z",
     "iopub.status.idle": "2024-07-24T07:33:56.272651Z",
     "shell.execute_reply": "2024-07-24T07:33:56.271797Z"
    },
    "papermill": {
     "duration": 0.016947,
     "end_time": "2024-07-24T07:33:56.274593",
     "exception": false,
     "start_time": "2024-07-24T07:33:56.257646",
     "status": "completed"
    },
    "tags": []
   },
   "outputs": [],
   "source": [
    "def conv_block(inputs, num_filters):\n",
    "    # implementing the first conv block.\n",
    "    conv = tf.keras.layers.Conv2D(num_filters, 3, padding='same', kernel_initializer=\"he_normal\")(inputs)\n",
    "    batch_norm = tf.keras.layers.BatchNormalization()(conv)\n",
    "    act = tf.keras.layers.Activation('relu')(batch_norm)\n",
    "\n",
    "    # implementing the second conv block.\n",
    "    conv = tf.keras.layers.Conv2D(num_filters, 3, padding=\"same\", kernel_initializer=\"he_normal\")(act)\n",
    "    batch_norm = tf.keras.layers.BatchNormalization()(conv)\n",
    "    act = tf.keras.layers.Activation(\"relu\")(batch_norm)\n",
    "\n",
    "    return act"
   ]
  },
  {
   "cell_type": "code",
   "execution_count": 15,
   "id": "45bbb6f1",
   "metadata": {
    "execution": {
     "iopub.execute_input": "2024-07-24T07:33:56.292007Z",
     "iopub.status.busy": "2024-07-24T07:33:56.291730Z",
     "iopub.status.idle": "2024-07-24T07:33:56.296278Z",
     "shell.execute_reply": "2024-07-24T07:33:56.295440Z"
    },
    "papermill": {
     "duration": 0.015127,
     "end_time": "2024-07-24T07:33:56.298029",
     "exception": false,
     "start_time": "2024-07-24T07:33:56.282902",
     "status": "completed"
    },
    "tags": []
   },
   "outputs": [],
   "source": [
    "def encoder_block(inputs, num_filters):    \n",
    "    skip = conv_block(inputs, num_filters) # convolutional block\n",
    "    max_pool = tf.keras.layers.MaxPooling2D((2,2))(inputs) # pooling  block\n",
    "\n",
    "    return skip, max_pool"
   ]
  },
  {
   "cell_type": "code",
   "execution_count": 16,
   "id": "03e494d3",
   "metadata": {
    "execution": {
     "iopub.execute_input": "2024-07-24T07:33:56.315183Z",
     "iopub.status.busy": "2024-07-24T07:33:56.314854Z",
     "iopub.status.idle": "2024-07-24T07:33:56.320193Z",
     "shell.execute_reply": "2024-07-24T07:33:56.319299Z"
    },
    "papermill": {
     "duration": 0.016078,
     "end_time": "2024-07-24T07:33:56.322157",
     "exception": false,
     "start_time": "2024-07-24T07:33:56.306079",
     "status": "completed"
    },
    "tags": []
   },
   "outputs": [],
   "source": [
    "def decoder_block(inputs, skip, num_filters):\n",
    "    # upsampling and concatenating the input features.\n",
    "    upsample = tf.keras.layers.Conv2DTranspose(num_filters, (2, 2), strides=(2,2), padding='same')(inputs)  # upsampling block\n",
    "    connect_skip = tf.keras.layers.concatenate([upsample, skip])\n",
    "    out = conv_block(connect_skip, num_filters)\n",
    "\n",
    "    return out"
   ]
  },
  {
   "cell_type": "code",
   "execution_count": 17,
   "id": "f7d38077",
   "metadata": {
    "execution": {
     "iopub.execute_input": "2024-07-24T07:33:56.339893Z",
     "iopub.status.busy": "2024-07-24T07:33:56.339631Z",
     "iopub.status.idle": "2024-07-24T07:33:56.347506Z",
     "shell.execute_reply": "2024-07-24T07:33:56.346662Z"
    },
    "papermill": {
     "duration": 0.019289,
     "end_time": "2024-07-24T07:33:56.349339",
     "exception": false,
     "start_time": "2024-07-24T07:33:56.330050",
     "status": "completed"
    },
    "tags": []
   },
   "outputs": [],
   "source": [
    "def build_unet(n_classes: int, height: int, width: int, channel: int):\n",
    "\n",
    "    inputs = tf.keras.layers.Input((height, width, channel))\n",
    "\n",
    "    # Defining the encoder (down sampler)\n",
    "    skip1, max_pool1 = encoder_block(inputs, num_filters=64)\n",
    "    skip2, max_pool2 = encoder_block(max_pool1, num_filters=128)\n",
    "    skip3, max_pool3 = encoder_block(max_pool2, num_filters=256)\n",
    "    skip4, max_pool4 = encoder_block(max_pool3, num_filters=512)\n",
    "    \n",
    "    # Defining the bottleneck\n",
    "    bridge = conv_block(max_pool4, num_filters=1024)\n",
    "\n",
    "    # Defining the decoder (up sampler)\n",
    "    u4 = decoder_block(bridge, skip4, num_filters=512)\n",
    "    u3 = decoder_block(u4, skip3, num_filters=256)\n",
    "    u2 = decoder_block(u3, skip2, num_filters=128)\n",
    "    u1 = decoder_block(u2, skip1, num_filters=64)\n",
    "\n",
    "    # output function\n",
    "    outputs = tf.keras.layers.Conv2D(n_classes, (1, 1), activation='sigmoid')(u1)\n",
    "    \n",
    "    model = tf.keras.models.Model(inputs=[inputs], outputs=[outputs], name=\"Unet\")\n",
    "\n",
    "    return model"
   ]
  },
  {
   "cell_type": "markdown",
   "id": "aef5ebc4",
   "metadata": {
    "papermill": {
     "duration": 0.007887,
     "end_time": "2024-07-24T07:33:56.365255",
     "exception": false,
     "start_time": "2024-07-24T07:33:56.357368",
     "status": "completed"
    },
    "tags": []
   },
   "source": [
    "## Metrics"
   ]
  },
  {
   "cell_type": "code",
   "execution_count": 18,
   "id": "1174cb29",
   "metadata": {
    "execution": {
     "iopub.execute_input": "2024-07-24T07:33:56.383012Z",
     "iopub.status.busy": "2024-07-24T07:33:56.382642Z",
     "iopub.status.idle": "2024-07-24T07:33:56.388772Z",
     "shell.execute_reply": "2024-07-24T07:33:56.387875Z"
    },
    "papermill": {
     "duration": 0.017328,
     "end_time": "2024-07-24T07:33:56.390663",
     "exception": false,
     "start_time": "2024-07-24T07:33:56.373335",
     "status": "completed"
    },
    "tags": []
   },
   "outputs": [],
   "source": [
    "def dice_coeff(y_true, y_pred, smooth = 1e-6):\n",
    "    y_true = tf.keras.backend.flatten(y_true)\n",
    "    y_pred = tf.keras.backend.flatten(y_pred)\n",
    "    intersection = tf.keras.backend.sum(y_true * y_pred, axis=-1)\n",
    "    union = tf.keras.backend.sum(y_true, axis=-1) + tf.keras.backend.sum(y_pred, axis=-1)\n",
    "    dice_coeff = (2 * intersection + smooth) / (union + smooth)\n",
    "\n",
    "    return dice_coeff"
   ]
  },
  {
   "cell_type": "code",
   "execution_count": 19,
   "id": "01de9dc8",
   "metadata": {
    "execution": {
     "iopub.execute_input": "2024-07-24T07:33:56.408151Z",
     "iopub.status.busy": "2024-07-24T07:33:56.407839Z",
     "iopub.status.idle": "2024-07-24T07:33:56.411730Z",
     "shell.execute_reply": "2024-07-24T07:33:56.411020Z"
    },
    "papermill": {
     "duration": 0.015044,
     "end_time": "2024-07-24T07:33:56.413690",
     "exception": false,
     "start_time": "2024-07-24T07:33:56.398646",
     "status": "completed"
    },
    "tags": []
   },
   "outputs": [],
   "source": [
    "def dice_coeff_loss(y_true, y_pred):\n",
    "    return 1 - dice_coeff(y_true, y_pred)"
   ]
  },
  {
   "cell_type": "markdown",
   "id": "ebdd10b6",
   "metadata": {
    "papermill": {
     "duration": 0.007743,
     "end_time": "2024-07-24T07:33:56.429501",
     "exception": false,
     "start_time": "2024-07-24T07:33:56.421758",
     "status": "completed"
    },
    "tags": []
   },
   "source": [
    "## Compile and fit the Model"
   ]
  },
  {
   "cell_type": "code",
   "execution_count": 20,
   "id": "eed64b3f",
   "metadata": {
    "execution": {
     "iopub.execute_input": "2024-07-24T07:33:56.446640Z",
     "iopub.status.busy": "2024-07-24T07:33:56.446314Z",
     "iopub.status.idle": "2024-07-24T07:33:56.450461Z",
     "shell.execute_reply": "2024-07-24T07:33:56.449716Z"
    },
    "papermill": {
     "duration": 0.014971,
     "end_time": "2024-07-24T07:33:56.452368",
     "exception": false,
     "start_time": "2024-07-24T07:33:56.437397",
     "status": "completed"
    },
    "tags": []
   },
   "outputs": [],
   "source": [
    "EPOCHS=30\n",
    "initial_lr = 0.001\n",
    "final_lr = 0.00001"
   ]
  },
  {
   "cell_type": "code",
   "execution_count": 21,
   "id": "ca7cf31b",
   "metadata": {
    "execution": {
     "iopub.execute_input": "2024-07-24T07:33:56.469906Z",
     "iopub.status.busy": "2024-07-24T07:33:56.469643Z",
     "iopub.status.idle": "2024-07-24T07:33:56.475493Z",
     "shell.execute_reply": "2024-07-24T07:33:56.474669Z"
    },
    "papermill": {
     "duration": 0.016682,
     "end_time": "2024-07-24T07:33:56.477419",
     "exception": false,
     "start_time": "2024-07-24T07:33:56.460737",
     "status": "completed"
    },
    "tags": []
   },
   "outputs": [],
   "source": [
    "def tune_learning_rate(model, train_data):\n",
    "    # set learning rate scheduler\n",
    "    lr_schedule = lambda epoch: initial_lr * (final_lr / initial_lr) ** (epoch / EPOCHS)\n",
    "    lr_scheduler = tf.keras.callbacks.LearningRateScheduler(lr_schedule)\n",
    "\n",
    "    # compile the model\n",
    "    model.compile(\n",
    "        optimizer=tf.keras.optimizers.Adam(learning_rate=0.001, epsilon=1e-06),\n",
    "        loss = [dice_coeff_loss],\n",
    "        metrics=[dice_coeff])\n",
    "\n",
    "    history = model.fit(train_data, epochs=EPOCHS, callbacks=[lr_scheduler])\n",
    "\n",
    "    return history\n"
   ]
  },
  {
   "cell_type": "code",
   "execution_count": 22,
   "id": "d6ef6c4c",
   "metadata": {
    "execution": {
     "iopub.execute_input": "2024-07-24T07:33:56.494365Z",
     "iopub.status.busy": "2024-07-24T07:33:56.494101Z",
     "iopub.status.idle": "2024-07-24T07:33:56.908722Z",
     "shell.execute_reply": "2024-07-24T07:33:56.907858Z"
    },
    "papermill": {
     "duration": 0.425671,
     "end_time": "2024-07-24T07:33:56.911034",
     "exception": false,
     "start_time": "2024-07-24T07:33:56.485363",
     "status": "completed"
    },
    "tags": []
   },
   "outputs": [],
   "source": [
    "# build the model\n",
    "model = build_unet(n_classes=NUM_CLASSES, height=IMG_SHAPE[0], width=IMG_SHAPE[1], channel=3)"
   ]
  },
  {
   "cell_type": "code",
   "execution_count": 23,
   "id": "8b518b1c",
   "metadata": {
    "execution": {
     "iopub.execute_input": "2024-07-24T07:33:56.928811Z",
     "iopub.status.busy": "2024-07-24T07:33:56.928470Z",
     "iopub.status.idle": "2024-07-24T13:26:17.849630Z",
     "shell.execute_reply": "2024-07-24T13:26:17.848569Z"
    },
    "papermill": {
     "duration": 21140.932476,
     "end_time": "2024-07-24T13:26:17.851881",
     "exception": false,
     "start_time": "2024-07-24T07:33:56.919405",
     "status": "completed"
    },
    "tags": []
   },
   "outputs": [
    {
     "name": "stdout",
     "output_type": "stream",
     "text": [
      "Epoch 1/30\n"
     ]
    },
    {
     "name": "stderr",
     "output_type": "stream",
     "text": [
      "2024-07-24 07:34:21.563114: E external/local_xla/xla/service/gpu/buffer_comparator.cc:1137] Difference at 0: 4.37599, expected 3.38235\n",
      "2024-07-24 07:34:21.563183: E external/local_xla/xla/service/gpu/buffer_comparator.cc:1137] Difference at 1: 5.67496, expected 4.68133\n",
      "2024-07-24 07:34:21.563192: E external/local_xla/xla/service/gpu/buffer_comparator.cc:1137] Difference at 2: 6.02051, expected 5.02687\n",
      "2024-07-24 07:34:21.563200: E external/local_xla/xla/service/gpu/buffer_comparator.cc:1137] Difference at 3: 5.32685, expected 4.33322\n",
      "2024-07-24 07:34:21.563208: E external/local_xla/xla/service/gpu/buffer_comparator.cc:1137] Difference at 4: 4.93495, expected 3.94132\n",
      "2024-07-24 07:34:21.563216: E external/local_xla/xla/service/gpu/buffer_comparator.cc:1137] Difference at 5: 5.2295, expected 4.23587\n",
      "2024-07-24 07:34:21.563223: E external/local_xla/xla/service/gpu/buffer_comparator.cc:1137] Difference at 6: 4.39933, expected 3.40569\n",
      "2024-07-24 07:34:21.563231: E external/local_xla/xla/service/gpu/buffer_comparator.cc:1137] Difference at 7: 4.15852, expected 3.16489\n",
      "2024-07-24 07:34:21.563239: E external/local_xla/xla/service/gpu/buffer_comparator.cc:1137] Difference at 8: 3.92115, expected 2.92751\n",
      "2024-07-24 07:34:21.563247: E external/local_xla/xla/service/gpu/buffer_comparator.cc:1137] Difference at 9: 3.76047, expected 2.76684\n",
      "2024-07-24 07:34:21.578149: E external/local_xla/xla/service/gpu/conv_algorithm_picker.cc:705] Results mismatch between different convolution algorithms. This is likely a bug/unexpected loss of precision in cudnn.\n",
      "(f32[8,256,128,128]{3,2,1,0}, u8[0]{0}) custom-call(f32[8,3,128,128]{3,2,1,0}, f32[256,3,3,3]{3,2,1,0}, f32[256]{0}), window={size=3x3 pad=1_1x1_1}, dim_labels=bf01_oi01->bf01, custom_call_target=\"__cudnn$convBiasActivationForward\", backend_config={\"conv_result_scale\":1,\"activation_mode\":\"kNone\",\"side_input_scale\":0,\"leakyrelu_alpha\":0} for eng20{k2=1,k4=1,k5=1,k6=0,k7=0} vs eng15{k5=1,k6=0,k7=1,k10=1}\n",
      "2024-07-24 07:34:21.578204: E external/local_xla/xla/service/gpu/conv_algorithm_picker.cc:270] Device: Tesla P100-PCIE-16GB\n",
      "2024-07-24 07:34:21.578213: E external/local_xla/xla/service/gpu/conv_algorithm_picker.cc:271] Platform: Compute Capability 6.0\n",
      "2024-07-24 07:34:21.578220: E external/local_xla/xla/service/gpu/conv_algorithm_picker.cc:272] Driver: 12040 (550.90.7)\n",
      "2024-07-24 07:34:21.578228: E external/local_xla/xla/service/gpu/conv_algorithm_picker.cc:273] Runtime: <undefined>\n",
      "2024-07-24 07:34:21.578244: E external/local_xla/xla/service/gpu/conv_algorithm_picker.cc:280] cudnn version: 8.9.0\n",
      "2024-07-24 07:34:21.931441: E external/local_xla/xla/service/gpu/buffer_comparator.cc:1137] Difference at 0: 4.37599, expected 3.38235\n",
      "2024-07-24 07:34:21.931504: E external/local_xla/xla/service/gpu/buffer_comparator.cc:1137] Difference at 1: 5.67496, expected 4.68133\n",
      "2024-07-24 07:34:21.931513: E external/local_xla/xla/service/gpu/buffer_comparator.cc:1137] Difference at 2: 6.02051, expected 5.02687\n",
      "2024-07-24 07:34:21.931521: E external/local_xla/xla/service/gpu/buffer_comparator.cc:1137] Difference at 3: 5.32685, expected 4.33322\n",
      "2024-07-24 07:34:21.931529: E external/local_xla/xla/service/gpu/buffer_comparator.cc:1137] Difference at 4: 4.93495, expected 3.94132\n",
      "2024-07-24 07:34:21.931537: E external/local_xla/xla/service/gpu/buffer_comparator.cc:1137] Difference at 5: 5.2295, expected 4.23587\n",
      "2024-07-24 07:34:21.931544: E external/local_xla/xla/service/gpu/buffer_comparator.cc:1137] Difference at 6: 4.39933, expected 3.40569\n",
      "2024-07-24 07:34:21.931552: E external/local_xla/xla/service/gpu/buffer_comparator.cc:1137] Difference at 7: 4.15852, expected 3.16489\n",
      "2024-07-24 07:34:21.931560: E external/local_xla/xla/service/gpu/buffer_comparator.cc:1137] Difference at 8: 3.92115, expected 2.92751\n",
      "2024-07-24 07:34:21.931567: E external/local_xla/xla/service/gpu/buffer_comparator.cc:1137] Difference at 9: 3.76047, expected 2.76684\n",
      "2024-07-24 07:34:21.946073: E external/local_xla/xla/service/gpu/conv_algorithm_picker.cc:705] Results mismatch between different convolution algorithms. This is likely a bug/unexpected loss of precision in cudnn.\n",
      "(f32[8,256,128,128]{3,2,1,0}, u8[0]{0}) custom-call(f32[8,3,128,128]{3,2,1,0}, f32[256,3,3,3]{3,2,1,0}, f32[256]{0}), window={size=3x3 pad=1_1x1_1}, dim_labels=bf01_oi01->bf01, custom_call_target=\"__cudnn$convBiasActivationForward\", backend_config={\"conv_result_scale\":1,\"activation_mode\":\"kNone\",\"side_input_scale\":0,\"leakyrelu_alpha\":0} for eng20{k2=1,k4=1,k5=1,k6=0,k7=0} vs eng15{k5=1,k6=0,k7=1,k10=1}\n",
      "2024-07-24 07:34:21.946122: E external/local_xla/xla/service/gpu/conv_algorithm_picker.cc:270] Device: Tesla P100-PCIE-16GB\n",
      "2024-07-24 07:34:21.946131: E external/local_xla/xla/service/gpu/conv_algorithm_picker.cc:271] Platform: Compute Capability 6.0\n",
      "2024-07-24 07:34:21.946138: E external/local_xla/xla/service/gpu/conv_algorithm_picker.cc:272] Driver: 12040 (550.90.7)\n",
      "2024-07-24 07:34:21.946146: E external/local_xla/xla/service/gpu/conv_algorithm_picker.cc:273] Runtime: <undefined>\n",
      "2024-07-24 07:34:21.946163: E external/local_xla/xla/service/gpu/conv_algorithm_picker.cc:280] cudnn version: 8.9.0\n",
      "2024-07-24 07:34:29.688036: E external/local_xla/xla/service/gpu/buffer_comparator.cc:1137] Difference at 196608: 3.16135, expected 2.42089\n",
      "2024-07-24 07:34:29.688094: E external/local_xla/xla/service/gpu/buffer_comparator.cc:1137] Difference at 196609: 4.66648, expected 3.92601\n",
      "2024-07-24 07:34:29.688103: E external/local_xla/xla/service/gpu/buffer_comparator.cc:1137] Difference at 196610: 5.09335, expected 4.35288\n",
      "2024-07-24 07:34:29.688111: E external/local_xla/xla/service/gpu/buffer_comparator.cc:1137] Difference at 196611: 5.56773, expected 4.82727\n",
      "2024-07-24 07:34:29.688119: E external/local_xla/xla/service/gpu/buffer_comparator.cc:1137] Difference at 196614: 6.23612, expected 5.49565\n",
      "2024-07-24 07:34:29.688127: E external/local_xla/xla/service/gpu/buffer_comparator.cc:1137] Difference at 196615: 5.70871, expected 4.96825\n",
      "2024-07-24 07:34:29.688135: E external/local_xla/xla/service/gpu/buffer_comparator.cc:1137] Difference at 196616: 4.79032, expected 4.04985\n",
      "2024-07-24 07:34:29.688142: E external/local_xla/xla/service/gpu/buffer_comparator.cc:1137] Difference at 196617: 4.21294, expected 3.47247\n",
      "2024-07-24 07:34:29.688150: E external/local_xla/xla/service/gpu/buffer_comparator.cc:1137] Difference at 196618: 4.87539, expected 4.13493\n",
      "2024-07-24 07:34:29.688158: E external/local_xla/xla/service/gpu/buffer_comparator.cc:1137] Difference at 196619: 5.00225, expected 4.26179\n",
      "2024-07-24 07:34:29.717529: E external/local_xla/xla/service/gpu/conv_algorithm_picker.cc:705] Results mismatch between different convolution algorithms. This is likely a bug/unexpected loss of precision in cudnn.\n",
      "(f32[8,128,256,256]{3,2,1,0}, u8[0]{0}) custom-call(f32[8,3,256,256]{3,2,1,0}, f32[128,3,3,3]{3,2,1,0}, f32[128]{0}), window={size=3x3 pad=1_1x1_1}, dim_labels=bf01_oi01->bf01, custom_call_target=\"__cudnn$convBiasActivationForward\", backend_config={\"conv_result_scale\":1,\"activation_mode\":\"kNone\",\"side_input_scale\":0,\"leakyrelu_alpha\":0} for eng20{k2=1,k4=1,k5=1,k6=0,k7=0} vs eng15{k5=1,k6=0,k7=1,k10=1}\n",
      "2024-07-24 07:34:29.717587: E external/local_xla/xla/service/gpu/conv_algorithm_picker.cc:270] Device: Tesla P100-PCIE-16GB\n",
      "2024-07-24 07:34:29.717596: E external/local_xla/xla/service/gpu/conv_algorithm_picker.cc:271] Platform: Compute Capability 6.0\n",
      "2024-07-24 07:34:29.717603: E external/local_xla/xla/service/gpu/conv_algorithm_picker.cc:272] Driver: 12040 (550.90.7)\n",
      "2024-07-24 07:34:29.717610: E external/local_xla/xla/service/gpu/conv_algorithm_picker.cc:273] Runtime: <undefined>\n",
      "2024-07-24 07:34:29.717627: E external/local_xla/xla/service/gpu/conv_algorithm_picker.cc:280] cudnn version: 8.9.0\n",
      "2024-07-24 07:34:30.391409: E external/local_xla/xla/service/gpu/buffer_comparator.cc:1137] Difference at 196608: 3.16135, expected 2.42089\n",
      "2024-07-24 07:34:30.391464: E external/local_xla/xla/service/gpu/buffer_comparator.cc:1137] Difference at 196609: 4.66648, expected 3.92601\n",
      "2024-07-24 07:34:30.391474: E external/local_xla/xla/service/gpu/buffer_comparator.cc:1137] Difference at 196610: 5.09335, expected 4.35288\n",
      "2024-07-24 07:34:30.391482: E external/local_xla/xla/service/gpu/buffer_comparator.cc:1137] Difference at 196611: 5.56773, expected 4.82727\n",
      "2024-07-24 07:34:30.391490: E external/local_xla/xla/service/gpu/buffer_comparator.cc:1137] Difference at 196614: 6.23612, expected 5.49565\n",
      "2024-07-24 07:34:30.391498: E external/local_xla/xla/service/gpu/buffer_comparator.cc:1137] Difference at 196615: 5.70871, expected 4.96825\n",
      "2024-07-24 07:34:30.391506: E external/local_xla/xla/service/gpu/buffer_comparator.cc:1137] Difference at 196616: 4.79032, expected 4.04985\n",
      "2024-07-24 07:34:30.391513: E external/local_xla/xla/service/gpu/buffer_comparator.cc:1137] Difference at 196617: 4.21294, expected 3.47247\n",
      "2024-07-24 07:34:30.391521: E external/local_xla/xla/service/gpu/buffer_comparator.cc:1137] Difference at 196618: 4.87539, expected 4.13493\n",
      "2024-07-24 07:34:30.391529: E external/local_xla/xla/service/gpu/buffer_comparator.cc:1137] Difference at 196619: 5.00225, expected 4.26179\n",
      "2024-07-24 07:34:30.420382: E external/local_xla/xla/service/gpu/conv_algorithm_picker.cc:705] Results mismatch between different convolution algorithms. This is likely a bug/unexpected loss of precision in cudnn.\n",
      "(f32[8,128,256,256]{3,2,1,0}, u8[0]{0}) custom-call(f32[8,3,256,256]{3,2,1,0}, f32[128,3,3,3]{3,2,1,0}, f32[128]{0}), window={size=3x3 pad=1_1x1_1}, dim_labels=bf01_oi01->bf01, custom_call_target=\"__cudnn$convBiasActivationForward\", backend_config={\"conv_result_scale\":1,\"activation_mode\":\"kNone\",\"side_input_scale\":0,\"leakyrelu_alpha\":0} for eng20{k2=1,k4=1,k5=1,k6=0,k7=0} vs eng15{k5=1,k6=0,k7=1,k10=1}\n",
      "2024-07-24 07:34:30.420427: E external/local_xla/xla/service/gpu/conv_algorithm_picker.cc:270] Device: Tesla P100-PCIE-16GB\n",
      "2024-07-24 07:34:30.420436: E external/local_xla/xla/service/gpu/conv_algorithm_picker.cc:271] Platform: Compute Capability 6.0\n",
      "2024-07-24 07:34:30.420443: E external/local_xla/xla/service/gpu/conv_algorithm_picker.cc:272] Driver: 12040 (550.90.7)\n",
      "2024-07-24 07:34:30.420450: E external/local_xla/xla/service/gpu/conv_algorithm_picker.cc:273] Runtime: <undefined>\n",
      "2024-07-24 07:34:30.420466: E external/local_xla/xla/service/gpu/conv_algorithm_picker.cc:280] cudnn version: 8.9.0\n",
      "2024-07-24 07:34:39.833041: E external/local_xla/xla/service/gpu/buffer_comparator.cc:1137] Difference at 93183: 1.9923, expected 1.69038\n",
      "2024-07-24 07:34:39.834036: E external/local_xla/xla/service/gpu/buffer_comparator.cc:1137] Difference at 262144: 4.15136, expected 3.44532\n",
      "2024-07-24 07:34:39.834074: E external/local_xla/xla/service/gpu/buffer_comparator.cc:1137] Difference at 262148: 5.22153, expected 4.51548\n",
      "2024-07-24 07:34:39.834084: E external/local_xla/xla/service/gpu/buffer_comparator.cc:1137] Difference at 262149: 5.94451, expected 5.23847\n",
      "2024-07-24 07:34:39.834092: E external/local_xla/xla/service/gpu/buffer_comparator.cc:1137] Difference at 262151: 5.97527, expected 5.26922\n",
      "2024-07-24 07:34:39.834101: E external/local_xla/xla/service/gpu/buffer_comparator.cc:1137] Difference at 262152: 5.37708, expected 4.67103\n",
      "2024-07-24 07:34:39.834109: E external/local_xla/xla/service/gpu/buffer_comparator.cc:1137] Difference at 262153: 5.80481, expected 5.09876\n",
      "2024-07-24 07:34:39.834117: E external/local_xla/xla/service/gpu/buffer_comparator.cc:1137] Difference at 262154: 5.99477, expected 5.28872\n",
      "2024-07-24 07:34:39.834126: E external/local_xla/xla/service/gpu/buffer_comparator.cc:1137] Difference at 262155: 5.68334, expected 4.97729\n",
      "2024-07-24 07:34:39.834134: E external/local_xla/xla/service/gpu/buffer_comparator.cc:1137] Difference at 262156: 4.68334, expected 3.9773\n",
      "2024-07-24 07:34:39.897168: E external/local_xla/xla/service/gpu/conv_algorithm_picker.cc:705] Results mismatch between different convolution algorithms. This is likely a bug/unexpected loss of precision in cudnn.\n",
      "(f32[8,64,512,512]{3,2,1,0}, u8[0]{0}) custom-call(f32[8,3,512,512]{3,2,1,0}, f32[64,3,3,3]{3,2,1,0}, f32[64]{0}), window={size=3x3 pad=1_1x1_1}, dim_labels=bf01_oi01->bf01, custom_call_target=\"__cudnn$convBiasActivationForward\", backend_config={\"conv_result_scale\":1,\"activation_mode\":\"kNone\",\"side_input_scale\":0,\"leakyrelu_alpha\":0} for eng20{k2=1,k4=3,k5=1,k6=0,k7=0} vs eng15{k5=1,k6=0,k7=1,k10=1}\n",
      "2024-07-24 07:34:39.897224: E external/local_xla/xla/service/gpu/conv_algorithm_picker.cc:270] Device: Tesla P100-PCIE-16GB\n",
      "2024-07-24 07:34:39.897234: E external/local_xla/xla/service/gpu/conv_algorithm_picker.cc:271] Platform: Compute Capability 6.0\n",
      "2024-07-24 07:34:39.897242: E external/local_xla/xla/service/gpu/conv_algorithm_picker.cc:272] Driver: 12040 (550.90.7)\n",
      "2024-07-24 07:34:39.897249: E external/local_xla/xla/service/gpu/conv_algorithm_picker.cc:273] Runtime: <undefined>\n",
      "2024-07-24 07:34:39.897267: E external/local_xla/xla/service/gpu/conv_algorithm_picker.cc:280] cudnn version: 8.9.0\n",
      "2024-07-24 07:34:41.257800: E external/local_xla/xla/service/gpu/buffer_comparator.cc:1137] Difference at 93183: 1.9923, expected 1.69038\n",
      "2024-07-24 07:34:41.258755: E external/local_xla/xla/service/gpu/buffer_comparator.cc:1137] Difference at 262144: 4.15136, expected 3.44532\n",
      "2024-07-24 07:34:41.258796: E external/local_xla/xla/service/gpu/buffer_comparator.cc:1137] Difference at 262148: 5.22153, expected 4.51548\n",
      "2024-07-24 07:34:41.258805: E external/local_xla/xla/service/gpu/buffer_comparator.cc:1137] Difference at 262149: 5.94451, expected 5.23847\n",
      "2024-07-24 07:34:41.258813: E external/local_xla/xla/service/gpu/buffer_comparator.cc:1137] Difference at 262151: 5.97527, expected 5.26922\n",
      "2024-07-24 07:34:41.258821: E external/local_xla/xla/service/gpu/buffer_comparator.cc:1137] Difference at 262152: 5.37708, expected 4.67103\n",
      "2024-07-24 07:34:41.258828: E external/local_xla/xla/service/gpu/buffer_comparator.cc:1137] Difference at 262153: 5.80481, expected 5.09876\n",
      "2024-07-24 07:34:41.258836: E external/local_xla/xla/service/gpu/buffer_comparator.cc:1137] Difference at 262154: 5.99477, expected 5.28872\n",
      "2024-07-24 07:34:41.258845: E external/local_xla/xla/service/gpu/buffer_comparator.cc:1137] Difference at 262155: 5.68334, expected 4.97729\n",
      "2024-07-24 07:34:41.258857: E external/local_xla/xla/service/gpu/buffer_comparator.cc:1137] Difference at 262156: 4.68334, expected 3.9773\n",
      "2024-07-24 07:34:41.316824: E external/local_xla/xla/service/gpu/conv_algorithm_picker.cc:705] Results mismatch between different convolution algorithms. This is likely a bug/unexpected loss of precision in cudnn.\n",
      "(f32[8,64,512,512]{3,2,1,0}, u8[0]{0}) custom-call(f32[8,3,512,512]{3,2,1,0}, f32[64,3,3,3]{3,2,1,0}, f32[64]{0}), window={size=3x3 pad=1_1x1_1}, dim_labels=bf01_oi01->bf01, custom_call_target=\"__cudnn$convBiasActivationForward\", backend_config={\"conv_result_scale\":1,\"activation_mode\":\"kNone\",\"side_input_scale\":0,\"leakyrelu_alpha\":0} for eng20{k2=1,k4=3,k5=1,k6=0,k7=0} vs eng15{k5=1,k6=0,k7=1,k10=1}\n",
      "2024-07-24 07:34:41.316896: E external/local_xla/xla/service/gpu/conv_algorithm_picker.cc:270] Device: Tesla P100-PCIE-16GB\n",
      "2024-07-24 07:34:41.316906: E external/local_xla/xla/service/gpu/conv_algorithm_picker.cc:271] Platform: Compute Capability 6.0\n",
      "2024-07-24 07:34:41.316913: E external/local_xla/xla/service/gpu/conv_algorithm_picker.cc:272] Driver: 12040 (550.90.7)\n",
      "2024-07-24 07:34:41.316920: E external/local_xla/xla/service/gpu/conv_algorithm_picker.cc:273] Runtime: <undefined>\n",
      "2024-07-24 07:34:41.316937: E external/local_xla/xla/service/gpu/conv_algorithm_picker.cc:280] cudnn version: 8.9.0\n",
      "WARNING: All log messages before absl::InitializeLog() is called are written to STDERR\n",
      "I0000 00:00:1721806553.985882      67 device_compiler.h:186] Compiled cluster using XLA!  This line is logged at most once for the lifetime of the process.\n"
     ]
    },
    {
     "name": "stdout",
     "output_type": "stream",
     "text": [
      "\u001b[1m1000/1000\u001b[0m \u001b[32m━━━━━━━━━━━━━━━━━━━━\u001b[0m\u001b[37m\u001b[0m \u001b[1m814s\u001b[0m 697ms/step - dice_coeff: 0.3086 - loss: 0.6914 - learning_rate: 0.0010\n",
      "Epoch 2/30\n"
     ]
    },
    {
     "name": "stderr",
     "output_type": "stream",
     "text": [
      "/opt/conda/lib/python3.10/contextlib.py:153: UserWarning: Your input ran out of data; interrupting training. Make sure that your dataset or generator can generate at least `steps_per_epoch * epochs` batches. You may need to use the `.repeat()` function when building your dataset.\n",
      "  self.gen.throw(typ, value, traceback)\n"
     ]
    },
    {
     "name": "stdout",
     "output_type": "stream",
     "text": [
      "\u001b[1m1000/1000\u001b[0m \u001b[32m━━━━━━━━━━━━━━━━━━━━\u001b[0m\u001b[37m\u001b[0m \u001b[1m699s\u001b[0m 699ms/step - dice_coeff: 0.5212 - loss: 0.4788 - learning_rate: 8.5770e-04\n",
      "Epoch 3/30\n",
      "\u001b[1m1000/1000\u001b[0m \u001b[32m━━━━━━━━━━━━━━━━━━━━\u001b[0m\u001b[37m\u001b[0m \u001b[1m700s\u001b[0m 700ms/step - dice_coeff: 0.5599 - loss: 0.4401 - learning_rate: 7.3564e-04\n",
      "Epoch 4/30\n",
      "\u001b[1m1000/1000\u001b[0m \u001b[32m━━━━━━━━━━━━━━━━━━━━\u001b[0m\u001b[37m\u001b[0m \u001b[1m701s\u001b[0m 701ms/step - dice_coeff: 0.5939 - loss: 0.4061 - learning_rate: 6.3096e-04\n",
      "Epoch 5/30\n",
      "\u001b[1m1000/1000\u001b[0m \u001b[32m━━━━━━━━━━━━━━━━━━━━\u001b[0m\u001b[37m\u001b[0m \u001b[1m701s\u001b[0m 701ms/step - dice_coeff: 0.6206 - loss: 0.3794 - learning_rate: 5.4117e-04\n",
      "Epoch 6/30\n",
      "\u001b[1m1000/1000\u001b[0m \u001b[32m━━━━━━━━━━━━━━━━━━━━\u001b[0m\u001b[37m\u001b[0m \u001b[1m701s\u001b[0m 701ms/step - dice_coeff: 0.6457 - loss: 0.3543 - learning_rate: 4.6416e-04\n",
      "Epoch 7/30\n",
      "\u001b[1m1000/1000\u001b[0m \u001b[32m━━━━━━━━━━━━━━━━━━━━\u001b[0m\u001b[37m\u001b[0m \u001b[1m701s\u001b[0m 701ms/step - dice_coeff: 0.6644 - loss: 0.3356 - learning_rate: 3.9811e-04\n",
      "Epoch 8/30\n",
      "\u001b[1m1000/1000\u001b[0m \u001b[32m━━━━━━━━━━━━━━━━━━━━\u001b[0m\u001b[37m\u001b[0m \u001b[1m701s\u001b[0m 701ms/step - dice_coeff: 0.6865 - loss: 0.3135 - learning_rate: 3.4145e-04\n",
      "Epoch 9/30\n",
      "\u001b[1m1000/1000\u001b[0m \u001b[32m━━━━━━━━━━━━━━━━━━━━\u001b[0m\u001b[37m\u001b[0m \u001b[1m701s\u001b[0m 701ms/step - dice_coeff: 0.7033 - loss: 0.2967 - learning_rate: 2.9286e-04\n",
      "Epoch 10/30\n",
      "\u001b[1m1000/1000\u001b[0m \u001b[32m━━━━━━━━━━━━━━━━━━━━\u001b[0m\u001b[37m\u001b[0m \u001b[1m701s\u001b[0m 701ms/step - dice_coeff: 0.7189 - loss: 0.2811 - learning_rate: 2.5119e-04\n",
      "Epoch 11/30\n",
      "\u001b[1m1000/1000\u001b[0m \u001b[32m━━━━━━━━━━━━━━━━━━━━\u001b[0m\u001b[37m\u001b[0m \u001b[1m701s\u001b[0m 701ms/step - dice_coeff: 0.7351 - loss: 0.2649 - learning_rate: 2.1544e-04\n",
      "Epoch 12/30\n",
      "\u001b[1m1000/1000\u001b[0m \u001b[32m━━━━━━━━━━━━━━━━━━━━\u001b[0m\u001b[37m\u001b[0m \u001b[1m701s\u001b[0m 701ms/step - dice_coeff: 0.7463 - loss: 0.2537 - learning_rate: 1.8478e-04\n",
      "Epoch 13/30\n",
      "\u001b[1m1000/1000\u001b[0m \u001b[32m━━━━━━━━━━━━━━━━━━━━\u001b[0m\u001b[37m\u001b[0m \u001b[1m701s\u001b[0m 701ms/step - dice_coeff: 0.7574 - loss: 0.2426 - learning_rate: 1.5849e-04\n",
      "Epoch 14/30\n",
      "\u001b[1m1000/1000\u001b[0m \u001b[32m━━━━━━━━━━━━━━━━━━━━\u001b[0m\u001b[37m\u001b[0m \u001b[1m701s\u001b[0m 701ms/step - dice_coeff: 0.7656 - loss: 0.2344 - learning_rate: 1.3594e-04\n",
      "Epoch 15/30\n",
      "\u001b[1m1000/1000\u001b[0m \u001b[32m━━━━━━━━━━━━━━━━━━━━\u001b[0m\u001b[37m\u001b[0m \u001b[1m701s\u001b[0m 701ms/step - dice_coeff: 0.7739 - loss: 0.2261 - learning_rate: 1.1659e-04\n",
      "Epoch 16/30\n",
      "\u001b[1m1000/1000\u001b[0m \u001b[32m━━━━━━━━━━━━━━━━━━━━\u001b[0m\u001b[37m\u001b[0m \u001b[1m701s\u001b[0m 701ms/step - dice_coeff: 0.7816 - loss: 0.2184 - learning_rate: 1.0000e-04\n",
      "Epoch 17/30\n",
      "\u001b[1m1000/1000\u001b[0m \u001b[32m━━━━━━━━━━━━━━━━━━━━\u001b[0m\u001b[37m\u001b[0m \u001b[1m701s\u001b[0m 701ms/step - dice_coeff: 0.7866 - loss: 0.2134 - learning_rate: 8.5770e-05\n",
      "Epoch 18/30\n",
      "\u001b[1m1000/1000\u001b[0m \u001b[32m━━━━━━━━━━━━━━━━━━━━\u001b[0m\u001b[37m\u001b[0m \u001b[1m701s\u001b[0m 701ms/step - dice_coeff: 0.7928 - loss: 0.2072 - learning_rate: 7.3564e-05\n",
      "Epoch 19/30\n",
      "\u001b[1m1000/1000\u001b[0m \u001b[32m━━━━━━━━━━━━━━━━━━━━\u001b[0m\u001b[37m\u001b[0m \u001b[1m701s\u001b[0m 701ms/step - dice_coeff: 0.7976 - loss: 0.2024 - learning_rate: 6.3096e-05\n",
      "Epoch 20/30\n",
      "\u001b[1m1000/1000\u001b[0m \u001b[32m━━━━━━━━━━━━━━━━━━━━\u001b[0m\u001b[37m\u001b[0m \u001b[1m701s\u001b[0m 701ms/step - dice_coeff: 0.8014 - loss: 0.1986 - learning_rate: 5.4117e-05\n",
      "Epoch 21/30\n",
      "\u001b[1m1000/1000\u001b[0m \u001b[32m━━━━━━━━━━━━━━━━━━━━\u001b[0m\u001b[37m\u001b[0m \u001b[1m701s\u001b[0m 701ms/step - dice_coeff: 0.8047 - loss: 0.1953 - learning_rate: 4.6416e-05\n",
      "Epoch 22/30\n",
      "\u001b[1m1000/1000\u001b[0m \u001b[32m━━━━━━━━━━━━━━━━━━━━\u001b[0m\u001b[37m\u001b[0m \u001b[1m701s\u001b[0m 701ms/step - dice_coeff: 0.8081 - loss: 0.1919 - learning_rate: 3.9811e-05\n",
      "Epoch 23/30\n",
      "\u001b[1m1000/1000\u001b[0m \u001b[32m━━━━━━━━━━━━━━━━━━━━\u001b[0m\u001b[37m\u001b[0m \u001b[1m701s\u001b[0m 701ms/step - dice_coeff: 0.8110 - loss: 0.1890 - learning_rate: 3.4145e-05\n",
      "Epoch 24/30\n",
      "\u001b[1m1000/1000\u001b[0m \u001b[32m━━━━━━━━━━━━━━━━━━━━\u001b[0m\u001b[37m\u001b[0m \u001b[1m701s\u001b[0m 701ms/step - dice_coeff: 0.8135 - loss: 0.1865 - learning_rate: 2.9286e-05\n",
      "Epoch 25/30\n",
      "\u001b[1m1000/1000\u001b[0m \u001b[32m━━━━━━━━━━━━━━━━━━━━\u001b[0m\u001b[37m\u001b[0m \u001b[1m701s\u001b[0m 701ms/step - dice_coeff: 0.8156 - loss: 0.1844 - learning_rate: 2.5119e-05\n",
      "Epoch 26/30\n",
      "\u001b[1m1000/1000\u001b[0m \u001b[32m━━━━━━━━━━━━━━━━━━━━\u001b[0m\u001b[37m\u001b[0m \u001b[1m701s\u001b[0m 701ms/step - dice_coeff: 0.8176 - loss: 0.1824 - learning_rate: 2.1544e-05\n",
      "Epoch 27/30\n",
      "\u001b[1m1000/1000\u001b[0m \u001b[32m━━━━━━━━━━━━━━━━━━━━\u001b[0m\u001b[37m\u001b[0m \u001b[1m702s\u001b[0m 702ms/step - dice_coeff: 0.8190 - loss: 0.1810 - learning_rate: 1.8478e-05\n",
      "Epoch 28/30\n",
      "\u001b[1m1000/1000\u001b[0m \u001b[32m━━━━━━━━━━━━━━━━━━━━\u001b[0m\u001b[37m\u001b[0m \u001b[1m701s\u001b[0m 701ms/step - dice_coeff: 0.8204 - loss: 0.1796 - learning_rate: 1.5849e-05\n",
      "Epoch 29/30\n",
      "\u001b[1m1000/1000\u001b[0m \u001b[32m━━━━━━━━━━━━━━━━━━━━\u001b[0m\u001b[37m\u001b[0m \u001b[1m701s\u001b[0m 701ms/step - dice_coeff: 0.8216 - loss: 0.1784 - learning_rate: 1.3594e-05\n",
      "Epoch 30/30\n",
      "\u001b[1m1000/1000\u001b[0m \u001b[32m━━━━━━━━━━━━━━━━━━━━\u001b[0m\u001b[37m\u001b[0m \u001b[1m701s\u001b[0m 701ms/step - dice_coeff: 0.8228 - loss: 0.1772 - learning_rate: 1.1659e-05\n"
     ]
    }
   ],
   "source": [
    "# compile and fit the model\n",
    "history = tune_learning_rate(model=model, train_data=train_dataset)"
   ]
  },
  {
   "cell_type": "code",
   "execution_count": 24,
   "id": "47e74a08",
   "metadata": {
    "execution": {
     "iopub.execute_input": "2024-07-24T13:26:22.991218Z",
     "iopub.status.busy": "2024-07-24T13:26:22.990336Z",
     "iopub.status.idle": "2024-07-24T13:26:22.996844Z",
     "shell.execute_reply": "2024-07-24T13:26:22.995997Z"
    },
    "papermill": {
     "duration": 2.577232,
     "end_time": "2024-07-24T13:26:22.998844",
     "exception": false,
     "start_time": "2024-07-24T13:26:20.421612",
     "status": "completed"
    },
    "tags": []
   },
   "outputs": [],
   "source": [
    "def plot_learning_rate(history):\n",
    "    plt.figure(figsize=(10, 6))\n",
    "    plt.semilogx(history.history['learning_rate'], history.history['loss'])\n",
    "#     plt.plot(history.history['learning_rate'], history.history['loss'])\n",
    "    plt.tick_params('both', length=10, width=1, which='both')\n",
    "    plt.xlabel(\"Learning Rate\")\n",
    "    plt.ylabel(\"Loss\")\n",
    "    plt.title(\"Learning Rate\")\n",
    "    plt.grid(True)\n",
    "    plt.savefig('Learning_rate.jpg')\n"
   ]
  },
  {
   "cell_type": "code",
   "execution_count": 25,
   "id": "f720f21b",
   "metadata": {
    "execution": {
     "iopub.execute_input": "2024-07-24T13:26:27.987379Z",
     "iopub.status.busy": "2024-07-24T13:26:27.986572Z",
     "iopub.status.idle": "2024-07-24T13:26:28.682822Z",
     "shell.execute_reply": "2024-07-24T13:26:28.681918Z"
    },
    "papermill": {
     "duration": 3.248902,
     "end_time": "2024-07-24T13:26:28.685069",
     "exception": false,
     "start_time": "2024-07-24T13:26:25.436167",
     "status": "completed"
    },
    "tags": []
   },
   "outputs": [
    {
     "data": {
      "image/png": "[encoded data removed]",
      "text/plain": [
       "<Figure size 1000x600 with 1 Axes>"
      ]
     },
     "metadata": {},
     "output_type": "display_data"
    }
   ],
   "source": [
    "plot_learning_rate(history)"
   ]
  },
  {
   "cell_type": "code",
   "execution_count": null,
   "id": "1344f755",
   "metadata": {
    "papermill": {
     "duration": 2.464665,
     "end_time": "2024-07-24T13:26:33.736742",
     "exception": false,
     "start_time": "2024-07-24T13:26:31.272077",
     "status": "completed"
    },
    "tags": []
   },
   "outputs": [],
   "source": []
  }
 ],
 "metadata": {
  "kaggle": {
   "accelerator": "gpu",
   "dataSources": [
    {
     "databundleVersionId": 868324,
     "sourceId": 9988,
     "sourceType": "competition"
    }
   ],
   "dockerImageVersionId": 30747,
   "isGpuEnabled": true,
   "isInternetEnabled": true,
   "language": "python",
   "sourceType": "notebook"
  },
  "kernelspec": {
   "display_name": "Python 3",
   "language": "python",
   "name": "python3"
  },
  "language_info": {
   "codemirror_mode": {
    "name": "ipython",
    "version": 3
   },
   "file_extension": ".py",
   "mimetype": "text/x-python",
   "name": "python",
   "nbconvert_exporter": "python",
   "pygments_lexer": "ipython3",
   "version": "3.10.13"
  },
  "papermill": {
   "default_parameters": {},
   "duration": 21204.109778,
   "end_time": "2024-07-24T13:26:39.754676",
   "environment_variables": {},
   "exception": null,
   "input_path": "__notebook__.ipynb",
   "output_path": "__notebook__.ipynb",
   "parameters": {},
   "start_time": "2024-07-24T07:33:15.644898",
   "version": "2.5.0"
  }
 },
 "nbformat": 4,
 "nbformat_minor": 5
}
